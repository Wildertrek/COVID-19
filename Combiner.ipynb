{
 "cells": [
  {
   "cell_type": "code",
   "execution_count": 3,
   "metadata": {},
   "outputs": [],
   "source": [
    "import os\n",
    "import glob\n",
    "import pandas as pd\n",
    "os.chdir(\"COVID-19/csse_covid_19_data/csse_covid_19_daily_reports\")"
   ]
  },
  {
   "cell_type": "code",
   "execution_count": 6,
   "metadata": {},
   "outputs": [
    {
     "name": "stdout",
     "output_type": "stream",
     "text": [
      "\u001b[31m01-22-2020.csv\u001b[m\u001b[m   \u001b[31m02-11-2020.csv\u001b[m\u001b[m   03-02-2020.csv   03-22-2020.csv\n",
      "\u001b[31m01-23-2020.csv\u001b[m\u001b[m   \u001b[31m02-12-2020.csv\u001b[m\u001b[m   03-03-2020.csv   03-23-2020.csv\n",
      "\u001b[31m01-24-2020.csv\u001b[m\u001b[m   \u001b[31m02-13-2020.csv\u001b[m\u001b[m   03-04-2020.csv   03-24-2020.csv\n",
      "\u001b[31m01-25-2020.csv\u001b[m\u001b[m   02-14-2020.csv   03-05-2020.csv   03-25-2020.csv\n",
      "\u001b[31m01-26-2020.csv\u001b[m\u001b[m   02-15-2020.csv   03-06-2020.csv   03-26-2020.csv\n",
      "\u001b[31m01-27-2020.csv\u001b[m\u001b[m   02-16-2020.csv   03-07-2020.csv   03-27-2020.csv\n",
      "\u001b[31m01-28-2020.csv\u001b[m\u001b[m   02-17-2020.csv   03-08-2020.csv   03-28-2020.csv\n",
      "\u001b[31m01-29-2020.csv\u001b[m\u001b[m   02-18-2020.csv   03-09-2020.csv   03-29-2020.csv\n",
      "\u001b[31m01-30-2020.csv\u001b[m\u001b[m   02-19-2020.csv   03-10-2020.csv   03-30-2020.csv\n",
      "\u001b[31m01-31-2020.csv\u001b[m\u001b[m   02-20-2020.csv   03-11-2020.csv   03-31-2020.csv\n",
      "\u001b[31m02-01-2020.csv\u001b[m\u001b[m   02-21-2020.csv   03-12-2020.csv   04-01-2020.csv\n",
      "\u001b[31m02-02-2020.csv\u001b[m\u001b[m   02-22-2020.csv   03-13-2020.csv   04-02-2020.csv\n",
      "\u001b[31m02-03-2020.csv\u001b[m\u001b[m   02-23-2020.csv   03-14-2020.csv   04-03-2020.csv\n",
      "\u001b[31m02-04-2020.csv\u001b[m\u001b[m   02-24-2020.csv   03-15-2020.csv   04-04-2020.csv\n",
      "\u001b[31m02-05-2020.csv\u001b[m\u001b[m   02-25-2020.csv   03-16-2020.csv   04-05-2020.csv\n",
      "\u001b[31m02-06-2020.csv\u001b[m\u001b[m   02-26-2020.csv   03-17-2020.csv   04-06-2020.csv\n",
      "\u001b[31m02-07-2020.csv\u001b[m\u001b[m   02-27-2020.csv   03-18-2020.csv   04-07-2020.csv\n",
      "\u001b[31m02-08-2020.csv\u001b[m\u001b[m   02-28-2020.csv   03-19-2020.csv   README.md\n",
      "\u001b[31m02-09-2020.csv\u001b[m\u001b[m   02-29-2020.csv   03-20-2020.csv   combined_csv.csv\n",
      "\u001b[31m02-10-2020.csv\u001b[m\u001b[m   03-01-2020.csv   03-21-2020.csv\n"
     ]
    }
   ],
   "source": [
    "!ls"
   ]
  },
  {
   "cell_type": "code",
   "execution_count": 1,
   "metadata": {},
   "outputs": [
    {
     "name": "stdout",
     "output_type": "stream",
     "text": [
      "\u001b[34mCOVID-19\u001b[m\u001b[m                          Wrangling_COVID-19_Data.ipynb\n",
      "COVID-19-References.ipynb         Wrangling_JHU_COVID-19_Data.ipynb\n",
      "Combiner.ipynb                    \u001b[34mdatasets\u001b[m\u001b[m\n",
      "README.md\n"
     ]
    }
   ],
   "source": [
    "!ls\n"
   ]
  },
  {
   "cell_type": "code",
   "execution_count": 2,
   "metadata": {},
   "outputs": [
    {
     "name": "stdout",
     "output_type": "stream",
     "text": [
      "/Users/jsr/Documents/GitHub/COVID-19\n"
     ]
    }
   ],
   "source": [
    "!pwd"
   ]
  },
  {
   "cell_type": "code",
   "execution_count": 5,
   "metadata": {},
   "outputs": [],
   "source": [
    "extension = 'csv'\n",
    "all_filenames = [i for i in glob.glob('*.{}'.format(extension))]\n",
    "\n",
    "#combine all files in the list\n",
    "combined_csv = pd.concat([pd.read_csv(f) for f in all_filenames ])\n",
    "#export to csv\n",
    "combined_csv.to_csv( \"combined_csv.csv\", index=False, encoding='utf-8-sig')"
   ]
  },
  {
   "cell_type": "code",
   "execution_count": null,
   "metadata": {},
   "outputs": [],
   "source": []
  }
 ],
 "metadata": {
  "kernelspec": {
   "display_name": "Python 3",
   "language": "python",
   "name": "python3"
  },
  "language_info": {
   "codemirror_mode": {
    "name": "ipython",
    "version": 3
   },
   "file_extension": ".py",
   "mimetype": "text/x-python",
   "name": "python",
   "nbconvert_exporter": "python",
   "pygments_lexer": "ipython3",
   "version": "3.7.4"
  }
 },
 "nbformat": 4,
 "nbformat_minor": 4
}
