{
 "cells": [
  {
   "cell_type": "markdown",
   "metadata": {},
   "source": [
    "### COVID-19 References\n",
    "\n",
    "1. JHU Map https://coronavirus.jhu.edu/map.html\n",
    "2. CDC https://www.cdc.gov/coronavirus/2019-ncov/index.html\n",
    "3. VDH http://www.vdh.virginia.gov/surveillance-and-investigation/novel-coronavirus/\n",
    "4. WHO https://www.who.int/emergencies/diseases/novel-coronavirus-2019/advice-for-public\n",
    "\n"
   ]
  },
  {
   "cell_type": "code",
   "execution_count": null,
   "metadata": {},
   "outputs": [],
   "source": []
  }
 ],
 "metadata": {
  "kernelspec": {
   "display_name": "Python 3",
   "language": "python",
   "name": "python3"
  },
  "language_info": {
   "codemirror_mode": {
    "name": "ipython",
    "version": 3
   },
   "file_extension": ".py",
   "mimetype": "text/x-python",
   "name": "python",
   "nbconvert_exporter": "python",
   "pygments_lexer": "ipython3",
   "version": "3.7.4"
  }
 },
 "nbformat": 4,
 "nbformat_minor": 2
}
