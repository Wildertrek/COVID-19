{
 "cells": [
  {
   "cell_type": "markdown",
   "metadata": {},
   "source": [
    "### COVID-19 References\n",
    "\n",
    "1. Whitehouse Data Call https://www.whitehouse.gov/briefings-statements/call-action-tech-community-new-machine-readable-covid-19-dataset/ \n",
    "2. CDC https://www.cdc.gov/coronavirus/2019-ncov/index.html\n",
    "3. VDH http://www.vdh.virginia.gov/surveillance-and-investigation/novel-coronavirus/\n",
    "4. JHU Map https://coronavirus.jhu.edu/map.html\n",
    "5. WHO https://www.who.int/emergencies/diseases/novel-coronavirus-2019/advice-for-public \n",
    "6. COVID-19 Open Research Dataset (CORD-19) https://pages.semanticscholar.org/coronavirus-research\n",
    "7. Kaggle https://www.kaggle.com/allen-institute-for-ai/CORD-19-research-challenge\n",
    "8. The data behind the coronavirus\n",
    "Tomas Pueyo takes a look at the data tracking COVID-19 and the predictive modeling that we should be paying attention to. https://medium.com/@tomaspueyo/coronavirus-act-today-or-people-will-die-f4d3d9cd99ca\n",
    "9. Coronavirus Tech Handbook https://coronavirustechhandbook.com/\n",
    "10. “DeepMind’s effort on COVID-19 coronavirus rests on the shoulders of giants.”https://www.zdnet.com/article/google-deepminds-effort-on-covid-19-coronavirus-rests-on-the-shoulders-of-giants/\n",
    "11. COVID-19 epidemiology with R https://rviews.rstudio.com/2020/03/05/covid-19-epidemiology-with-r\n",
    "12. Stanford AI conference https://hai.stanford.edu/events/covid-19-and-ai-virtual-conference/overview\n",
    "13. DOE Corona virus hub https://www.energy.gov/coronavirus-hub\n",
    "14. ORNL https://www.ornl.gov/news/early-research-existing-drug-compounds-supercomputing-could-combat-coronavirus\n",
    "15. ESRI https://coronavirus-resources.esri.com/\n",
    "16. WHO Coronavirus disease 2019 (COVID-19) situation report–57. Geneva, Switzerland: World Health Organization; 2020 https://www.who.int/docs/default-source/coronaviruse/situation-reports/20200317-sitrep-57-covid-19.pdf?sfvrsn=a26922f2_2pdf \n",
    "17. WHO Coronavirus disease 2019 (COVID-19) situation report–51. Geneva, Switzerland: World Health Organization; 2020 https://www.who.int/docs/default-source/coronaviruse/situation-reports/20200311-sitrep-51-covid-19.pdf?sfvrsn=1ba62e57_10pdf \n",
    "19. CDC. CDC, Washington State report first COVID-19 death [Media statement]. Atlanta, GA: US Department of Health and Human Services, CDC; 2020. https://www.cdc.gov/media/releases/2020/s0229-COVID-19-first-death.html\n",
    "20. CDC. Coronavirus disease 2019 (COVID-19): cases in U.S. Atlanta, GA: US Department of Health and Human Services, CDC; 2020 https://www.cdc.gov/coronavirus/2019-ncov/cases-in-us.html\n",
    "21. CDC. Coronavirus disease 2019 (COVID-19): information for health departments on reporting a person under investigation (PUI), or presumptive positive and laboratory-confirmed cases of COVID-19. Atlanta, GA: US Department of Health and Human Services, CDC; 2020. https://www.cdc.gov/coronavirus/2019-ncov/php/reporting-pui.html\n",
    "22. CDC. Coronavirus disease 2019 (COVID-19): if you are at higher risk. Get ready for COVID-19 now. Atlanta, GA:US Department of Health and Human Services; 2020. https://www.cdc.gov/coronavirus/2019-ncov/specific-groups/high-risk-complications.html\n",
    "23. CDC. Coronavirus disease 2019 (COVID-19): schools, workplaces, & community locations. Atlanta, GA: US Department of Health and Human Services, CDC; 2020. https://www.cdc.gov/coronavirus/2019-ncov/community/index.html?CDC_AA_refVal=https%3A%2F%2Fwww.cdc.gov%2Fcoronavirus%2F2019-ncov%2Fpreparing-individuals-communities.html\n",
    "24. Administration for Community Living. 2017 profile of older Americans. Washington, DC: US Department of Health and Human Services, Administration for Community Living; 2018. https://acl.gov/sites/default/files/Aging%20and%20Disability%20in%20America/2017OlderAmericansProfile.pdfpdf\n",
    "25. Digital.gov Guidance https://digital.gov/resources/coronavirus-covid19-guidance-for-us-government/\n",
    "26. 2019 Novel Coronavirus COVID-19 (2019-nCoV) Data Repository by Johns Hopkins CSSE https://github.com/CSSEGISandData/COVID-19\n",
    "27. Open collaboration on COVID-19 https://github.blog/2020-03-23-open-collaboration-on-covid-19\n",
    "28. Splunk for Good https://covid-19.splunkforgood.com/coronavirus__covid_19_\n",
    "29. ORNL Supercomputing https://www.olcf.ornl.gov/\n",
    "\n"
   ]
  },
  {
   "cell_type": "code",
   "execution_count": null,
   "metadata": {},
   "outputs": [],
   "source": []
  }
 ],
 "metadata": {
  "kernelspec": {
   "display_name": "Python 3",
   "language": "python",
   "name": "python3"
  },
  "language_info": {
   "codemirror_mode": {
    "name": "ipython",
    "version": 3
   },
   "file_extension": ".py",
   "mimetype": "text/x-python",
   "name": "python",
   "nbconvert_exporter": "python",
   "pygments_lexer": "ipython3",
   "version": "3.7.4"
  }
 },
 "nbformat": 4,
 "nbformat_minor": 4
}
