{
 "cells": [
  {
   "cell_type": "markdown",
   "metadata": {},
   "source": [
    "### COVID-19 References\n",
    "\n",
    "1. JHU Map https://coronavirus.jhu.edu/map.html\n",
    "2. CDC https://www.cdc.gov/coronavirus/2019-ncov/index.html\n",
    "3. VDH http://www.vdh.virginia.gov/surveillance-and-investigation/novel-coronavirus/\n",
    "4. WHO https://www.who.int/emergencies/diseases/novel-coronavirus-2019/advice-for-public\n",
    "5. Whitehouse Data Call https://www.whitehouse.gov/briefings-statements/call-action-tech-community-new-machine-readable-covid-19-dataset/\n",
    "\n",
    "6. The data behind the coronavirus\n",
    "Tomas Pueyo takes a look at the data tracking COVID-19 and the predictive modeling that we should be paying attention to. https://medium.com/@tomaspueyo/coronavirus-act-today-or-people-will-die-f4d3d9cd99ca\n",
    "\n",
    "7. Coronavirus Tech Handbook https://coronavirustechhandbook.com/\n",
    "8. “DeepMind’s effort on COVID-19 coronavirus rests on the shoulders of giants.”https://www.zdnet.com/article/google-deepminds-effort-on-covid-19-coronavirus-rests-on-the-shoulders-of-giants/\n",
    "9. COVID-19 epidemiology with R https://rviews.rstudio.com/2020/03/05/covid-19-epidemiology-with-r\n",
    "\n"
   ]
  },
  {
   "cell_type": "code",
   "execution_count": null,
   "metadata": {},
   "outputs": [],
   "source": []
  }
 ],
 "metadata": {
  "kernelspec": {
   "display_name": "Python 3",
   "language": "python",
   "name": "python3"
  },
  "language_info": {
   "codemirror_mode": {
    "name": "ipython",
    "version": 3
   },
   "file_extension": ".py",
   "mimetype": "text/x-python",
   "name": "python",
   "nbconvert_exporter": "python",
   "pygments_lexer": "ipython3",
   "version": "3.7.4"
  }
 },
 "nbformat": 4,
 "nbformat_minor": 2
}
